{
 "cells": [
  {
   "cell_type": "markdown",
   "id": "d949cd3c",
   "metadata": {},
   "source": [
    "## Regularization: Ridge and Lasso Regression\n",
    "\n",
    "In this section, we will try to visualize the effect of regularization using **L1 norm (Lasso regression)** and **L2 norm (Ridge regression)**. Let us have a small number of datapoints and try to fit a complex model to it:"
   ]
  },
  {
   "cell_type": "code",
   "execution_count": null,
   "id": "25ce9d27",
   "metadata": {},
   "outputs": [],
   "source": [
    "import numpy as np\n",
    "from sklearn.model_selection import train_test_split\n",
    "\n",
    "def generate_data(n=100,noise=10.0):\n",
    "    np.random.seed(42)\n",
    "    X = np.random.uniform(-10,10, n)\n",
    "    y = X**2 - 2 * X + np.random.randn(n) * noise\n",
    "    return X,y\n",
    "\n",
    "X, y = generate_data(n=15)\n",
    "X_train, X_test, y_train, y_test = train_test_split(X, y, test_size=0.2, random_state=42)"
   ]
  },
  {
   "cell_type": "code",
   "execution_count": null,
   "id": "29495cd2",
   "metadata": {},
   "outputs": [],
   "source": [
    "from sklearn.model_selection import train_test_split\n",
    "from sklearn.preprocessing import PolynomialFeatures\n",
    "from sklearn.linear_model import Ridge, Lasso\n",
    "import matplotlib.pyplot as plt\n",
    "\n",
    "degrees = [2, 6, 8]\n",
    "lambdas = [1e4, 1, 1e-4, 1e-8]\n",
    "\n",
    "ridge_rmse_train = np.zeros((len(degrees), len(lambdas)))\n",
    "ridge_rmse_test = np.zeros((len(degrees), len(lambdas)))\n",
    "lasso_rmse_train = np.zeros((len(degrees), len(lambdas)))\n",
    "lasso_rmse_test = np.zeros((len(degrees), len(lambdas)))\n",
    "\n",
    "for degree_idx, degree in enumerate(degrees):\n",
    "    fig, axs = plt.subplots(1, 4, figsize=(20,5)) #Create a 1x4 grid of subplots\n",
    "    for lambda_idx, lambda_val in enumerate(lambdas):\n",
    "        ploy_features = PolynomialFeatures(degree=degree)\n",
    "        X_train_poly = ploy_features.fit_transform(X_train[:, np.newaxis])\n",
    "        X_test_poly = poly_features.transform(X_test[:, np.newaxis])\n",
    "\n",
    "        # Ridge Regression using sckit-learn\n",
    "        ridge_model = Ridge(alpha=lambda_val)\n",
    "        ridge_model.fit(X_train_poly, y_train)\n",
    "        y_train_pred_ridge = ridge_model.predict(X_train_poly)\n",
    "        y_test_pred_ridge = ridge_model.predict(X_test_poly)\n",
    "\n",
    "        # Lasso Regression using sckit-learn\n",
    "        lasso_model = Lasso(alpha=lambda_val, max_iter=10000)\n",
    "        lasso_model.fit(X_train_poly, y_train)\n",
    "        y_train_pred_lasso = lasso_model.predict(X_train_poly)\n",
    "        y_test_pred_lasso = lasso_model.predict(X_test_poly)\n",
    "\n",
    "        "
   ]
  }
 ],
 "metadata": {
  "kernelspec": {
   "display_name": "Python 3",
   "language": "python",
   "name": "python3"
  },
  "language_info": {
   "codemirror_mode": {
    "name": "ipython",
    "version": 3
   },
   "file_extension": ".py",
   "mimetype": "text/x-python",
   "name": "python",
   "nbconvert_exporter": "python",
   "pygments_lexer": "ipython3",
   "version": "3.11.6"
  }
 },
 "nbformat": 4,
 "nbformat_minor": 5
}
