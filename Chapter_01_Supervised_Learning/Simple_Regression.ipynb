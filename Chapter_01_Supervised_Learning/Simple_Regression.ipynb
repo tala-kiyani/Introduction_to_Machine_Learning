{
  "cells": [
    {
      "cell_type": "code",
      "execution_count": 1,
      "metadata": {},
      "outputs": [
        {
          "name": "stdout",
          "output_type": "stream",
          "text": [
            "[5, 3, -1, 2, 6] [14, 6, -5.5, 3.5, 18]\n"
          ]
        }
      ],
      "source": [
        "x = [5, 3, -1, 2, 6]\n",
        "y = [14, 6, -5.5, 3.5, 18]\n",
        "print(x, y)"
      ]
    },
    {
      "cell_type": "code",
      "execution_count": 2,
      "metadata": {
        "colab": {
          "base_uri": "https://localhost:8080/"
        },
        "id": "D7-mozyrTI5k",
        "outputId": "72c79128-6dfc-48d2-9d09-63ac082fc33c"
      },
      "outputs": [
        {
          "name": "stdout",
          "output_type": "stream",
          "text": [
            "5 15 36.0 208.5 75\n"
          ]
        }
      ],
      "source": [
        "X, Y, XiYi, Xi2 = 0, 0, 0, 0\n",
        "n = len(x)\n",
        "for i in range(n):\n",
        "  X = X + x[i]\n",
        "  Y = Y + y[i]\n",
        "  XiYi = XiYi + x[i] * y[i]\n",
        "  Xi2 = Xi2 + x[i] ** 2\n",
        "print(n, X, Y, XiYi, Xi2)"
      ]
    },
    {
      "cell_type": "code",
      "execution_count": 3,
      "metadata": {
        "colab": {
          "base_uri": "https://localhost:8080/"
        },
        "id": "tsGNDYVST04r",
        "outputId": "8bce73ea-9104-4285-fd12-19cebdaaf9ee"
      },
      "outputs": [
        {
          "name": "stdout",
          "output_type": "stream",
          "text": [
            "3.35\n"
          ]
        }
      ],
      "source": [
        "w1 = (n * XiYi - X * Y) / (n * Xi2 - X**2)\n",
        "print(w1)"
      ]
    },
    {
      "cell_type": "code",
      "execution_count": 4,
      "metadata": {
        "colab": {
          "base_uri": "https://localhost:8080/"
        },
        "id": "vVnwe5KhUJF8",
        "outputId": "340eb7a4-93db-4c68-c55f-8767177662d8"
      },
      "outputs": [
        {
          "name": "stdout",
          "output_type": "stream",
          "text": [
            "-2.85\n"
          ]
        }
      ],
      "source": [
        "w0 = (Y-w1*X)/n\n",
        "print(w0)"
      ]
    }
  ],
  "metadata": {
    "colab": {
      "provenance": []
    },
    "kernelspec": {
      "display_name": "Python 3",
      "name": "python3"
    },
    "language_info": {
      "codemirror_mode": {
        "name": "ipython",
        "version": 3
      },
      "file_extension": ".py",
      "mimetype": "text/x-python",
      "name": "python",
      "nbconvert_exporter": "python",
      "pygments_lexer": "ipython3",
      "version": "3.11.6"
    }
  },
  "nbformat": 4,
  "nbformat_minor": 0
}
