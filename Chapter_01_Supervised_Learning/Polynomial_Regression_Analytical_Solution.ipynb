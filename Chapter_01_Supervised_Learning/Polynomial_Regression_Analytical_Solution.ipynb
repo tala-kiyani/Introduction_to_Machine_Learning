{
 "cells": [
  {
   "cell_type": "markdown",
   "metadata": {},
   "source": [
    "## Polynomial Regression: Analytical Solution\n",
    "Linear regression can be extended to model nonlinear relationships by introducing polynomial terms.\n"
   ]
  },
  {
   "cell_type": "markdown",
   "metadata": {},
   "source": [
    "### Engineering Polynomial Features"
   ]
  }
 ],
 "metadata": {
  "colab": {
   "collapsed_sections": [
    "tMkQJeyKI0Gq",
    "i-g63Weeisqj"
   ],
   "provenance": []
  },
  "kernelspec": {
   "display_name": "Python 3",
   "language": "python",
   "name": "python3"
  },
  "language_info": {
   "codemirror_mode": {
    "name": "ipython",
    "version": 3
   },
   "file_extension": ".py",
   "mimetype": "text/x-python",
   "name": "python",
   "nbconvert_exporter": "python",
   "pygments_lexer": "ipython3",
   "version": "3.11.6"
  }
 },
 "nbformat": 4,
 "nbformat_minor": 4
}
